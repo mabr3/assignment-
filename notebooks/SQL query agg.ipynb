{
 "cells": [
  {
   "cell_type": "code",
   "execution_count": null,
   "id": "facff54d",
   "metadata": {},
   "outputs": [],
   "source": [
    "%%sql\n",
    "USE assignment_db"
   ]
  },
  {
   "cell_type": "code",
   "execution_count": null,
   "id": "0cc5ab95",
   "metadata": {},
   "outputs": [],
   "source": [
    "%%sql\n",
    "WITH dim_times AS ( SELECT (current_date - interval '1 day') as agg_date,\n",
    "                       (current_date - interval '2 days') as end_date,\n",
    "                       (current_date - interval '32 days') as start_date\n",
    "    ),\n",
    "dims AS (\n",
    "    SELECT DISTINCT cu.customer_id, i.industry\n",
    "    FROM industries i \n",
    "    LEFT JOIN companies co ON i.industry = co.industry\n",
    "    LEFT JOIN customers cu ON co.company_name = cu.company_name\n",
    "),\n",
    "aux_24 AS (\n",
    "    SELECT industry, sum(amount) as value_24h\n",
    "    FROM orders right join dims USING(customer_id)\n",
    "    JOIN dim_times\n",
    "    WHERE year = YEAR(agg_date)\n",
    "    AND month = MONTH(agg_date)\n",
    "    AND day = DAY(agg_date)\n",
    "    GROUP BY 1\n",
    "),\n",
    "aux_30d_sum AS (\n",
    "    SELECT industry, year, month, day, sum(amount) as sum_value\n",
    "    FROM orders\n",
    "    RIGHT JOIN dims USING(customer_id)\n",
    "    JOIN dim_times\n",
    "    WHERE ( (year = YEAR(start_date) AND \n",
    "             month = MONTH(start_date) AND\n",
    "             day >= DAY(start_date))\n",
    "            OR\n",
    "           (year = YEAR(start_date) AND \n",
    "             month > MONTH(start_date) AND\n",
    "             month < DAY(end_date))\n",
    "           OR\n",
    "           (year = YEAR(end_date) AND \n",
    "             month = MONTH(end_date) AND\n",
    "             day <= DAY(end_date))\n",
    "          )\n",
    "    GROUP BY 1, 2, 3, 4\n",
    "    ),\n",
    "aux_30d_avg AS (\n",
    "    SELECT industry, AVG(sum_value) as avg_30d\n",
    "    FROM aux_30d_sum\n",
    "    GROUP BY 1\n",
    ")\n",
    "select industry,\n",
    "aux_24.value_24h,\n",
    "aux_30d_avg.avg_30d,\n",
    "aux_24.value_24h - aux_30d_avg.avg_30d as diff,\n",
    "abs(aux_24.value_24h - aux_30d_avg.avg_30d) as abs_diff,\n",
    "(aux_24.value_24h - aux_30d_avg.avg_30d) / aux_30d_avg.avg_30d * 100 as pct_diff\n",
    "FROM aux_24 INNER JOIN aux_30d_avg USING(industry)\n",
    "ORDER BY abs_diff desc\n",
    "LIMIT 3\n",
    "\n",
    "\n",
    "\n",
    "\n"
   ]
  }
 ],
 "metadata": {
  "kernelspec": {
   "display_name": "Python 3 (ipykernel)",
   "language": "python",
   "name": "python3"
  },
  "language_info": {
   "codemirror_mode": {
    "name": "ipython",
    "version": 3
   },
   "file_extension": ".py",
   "mimetype": "text/x-python",
   "name": "python",
   "nbconvert_exporter": "python",
   "pygments_lexer": "ipython3",
   "version": "3.9.13"
  }
 },
 "nbformat": 4,
 "nbformat_minor": 5
}
